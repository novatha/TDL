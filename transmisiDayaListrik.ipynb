{
  "nbformat": 4,
  "nbformat_minor": 0,
  "metadata": {
    "colab": {
      "name": "transmisiDayaListrik.ipynb",
      "provenance": [],
      "collapsed_sections": [],
      "authorship_tag": "ABX9TyPStfHIoqETLLLJTwtAgEhl",
      "include_colab_link": true
    },
    "kernelspec": {
      "name": "python3",
      "display_name": "Python 3"
    }
  },
  "cells": [
    {
      "cell_type": "markdown",
      "metadata": {
        "id": "view-in-github",
        "colab_type": "text"
      },
      "source": [
        "<a href=\"https://colab.research.google.com/github/novatha/TDL/blob/master/transmisiDayaListrik.ipynb\" target=\"_parent\"><img src=\"https://colab.research.google.com/assets/colab-badge.svg\" alt=\"Open In Colab\"/></a>"
      ]
    },
    {
      "cell_type": "markdown",
      "metadata": {
        "id": "3uEygHjJTtUG",
        "colab_type": "text"
      },
      "source": [
        "A 400-km, 500-kV, 60-Hz uncompensated three-phase transmission line has a positive-sequence impedance $$z=0.03 + j0.35 \\;\\; \\Omega /km$$ and a positive-sequence shunt admittance $$y=j4.4 x 10^{-6} \\;\\; S/km.$$ Calculate (a) $Z_c$ b. $(\\gamma l)$ and (c) the exact $ABCD$ parameters. "
      ]
    },
    {
      "cell_type": "markdown",
      "metadata": {
        "id": "xT1AvPrESMps",
        "colab_type": "text"
      },
      "source": [
        "# (a)"
      ]
    },
    {
      "cell_type": "code",
      "metadata": {
        "id": "BSusXf1JSE2A",
        "colab_type": "code",
        "colab": {}
      },
      "source": [
        "from numpy import sqrt"
      ],
      "execution_count": 0,
      "outputs": []
    },
    {
      "cell_type": "code",
      "metadata": {
        "id": "M-f_J_XoSPAP",
        "colab_type": "code",
        "colab": {}
      },
      "source": [
        "z=complex(0.03,0.35)"
      ],
      "execution_count": 0,
      "outputs": []
    },
    {
      "cell_type": "code",
      "metadata": {
        "id": "4ECdxgjRVLMJ",
        "colab_type": "code",
        "colab": {}
      },
      "source": [
        "y=complex(0,4.4e-6)"
      ],
      "execution_count": 0,
      "outputs": []
    },
    {
      "cell_type": "code",
      "metadata": {
        "id": "k2F8pPlqVtJU",
        "colab_type": "code",
        "colab": {}
      },
      "source": [
        "Zc=sqrt(z*y)"
      ],
      "execution_count": 0,
      "outputs": []
    },
    {
      "cell_type": "code",
      "metadata": {
        "id": "pQ1H7ozhVx-o",
        "colab_type": "code",
        "outputId": "05d97ff2-4934-46f6-c7fa-d9d6336beeec",
        "colab": {
          "base_uri": "https://localhost:8080/",
          "height": 35
        }
      },
      "source": [
        "Zc\n"
      ],
      "execution_count": 0,
      "outputs": [
        {
          "output_type": "execute_result",
          "data": {
            "text/plain": [
              "(5.313562920501662e-05+0.0012421044219754686j)"
            ]
          },
          "metadata": {
            "tags": []
          },
          "execution_count": 10
        }
      ]
    },
    {
      "cell_type": "code",
      "metadata": {
        "id": "JHninFITV2CT",
        "colab_type": "code",
        "colab": {}
      },
      "source": [
        ""
      ],
      "execution_count": 0,
      "outputs": []
    },
    {
      "cell_type": "markdown",
      "metadata": {
        "id": "vnEmqi3CWD0P",
        "colab_type": "text"
      },
      "source": [
        "# (b)\n"
      ]
    },
    {
      "cell_type": "code",
      "metadata": {
        "id": "NNqXJjFDWGti",
        "colab_type": "code",
        "colab": {}
      },
      "source": [
        "gamma=sqrt(z*y)"
      ],
      "execution_count": 0,
      "outputs": []
    },
    {
      "cell_type": "code",
      "metadata": {
        "id": "c6XZqZnBWQ5e",
        "colab_type": "code",
        "colab": {}
      },
      "source": [
        "l=400"
      ],
      "execution_count": 0,
      "outputs": []
    },
    {
      "cell_type": "code",
      "metadata": {
        "id": "ijMi1w96WTLu",
        "colab_type": "code",
        "colab": {}
      },
      "source": [
        "yl=gamma*l"
      ],
      "execution_count": 0,
      "outputs": []
    },
    {
      "cell_type": "code",
      "metadata": {
        "id": "GYWrijM5WVoj",
        "colab_type": "code",
        "outputId": "77aa7034-a65d-435c-a32e-75abbc32ca1c",
        "colab": {
          "base_uri": "https://localhost:8080/",
          "height": 35
        }
      },
      "source": [
        "print(yl)"
      ],
      "execution_count": 0,
      "outputs": [
        {
          "output_type": "stream",
          "text": [
            "(0.021254251682006647+0.49684176879018743j)\n"
          ],
          "name": "stdout"
        }
      ]
    },
    {
      "cell_type": "code",
      "metadata": {
        "id": "fzKMy5xxWYeK",
        "colab_type": "code",
        "colab": {}
      },
      "source": [
        ""
      ],
      "execution_count": 0,
      "outputs": []
    },
    {
      "cell_type": "markdown",
      "metadata": {
        "id": "lxL_RO3NWemm",
        "colab_type": "text"
      },
      "source": [
        "# (c) ABCD parameters"
      ]
    },
    {
      "cell_type": "code",
      "metadata": {
        "id": "7LypjC3SWiwP",
        "colab_type": "code",
        "colab": {}
      },
      "source": [
        "from numpy import cosh,sinh\n",
        "A=cosh(yl)\n",
        "B=Zc*cosh(yl)\n",
        "C=cosh(yl)/Zc\n",
        "D=A"
      ],
      "execution_count": 0,
      "outputs": []
    },
    {
      "cell_type": "code",
      "metadata": {
        "id": "OpYajxSAWqbM",
        "colab_type": "code",
        "outputId": "e0a9a867-67a9-4cdb-f2ba-5ed4afd933c3",
        "colab": {
          "base_uri": "https://localhost:8080/",
          "height": 87
        }
      },
      "source": [
        "print(\"A =\",A)\n",
        "print(\"B =\",B)\n",
        "print(\"C =\",C)\n",
        "print(\"D =\",D)"
      ],
      "execution_count": 0,
      "outputs": [
        {
          "output_type": "stream",
          "text": [
            "A = (0.879290888855418+0.010131634647880493j)\n",
            "B = (3.413712643559874e-05+0.0010927094520319454j)\n",
            "C = (38.36984180878665-706.2627486449258j)\n",
            "D = (0.879290888855418+0.010131634647880493j)\n"
          ],
          "name": "stdout"
        }
      ]
    },
    {
      "cell_type": "code",
      "metadata": {
        "id": "piDUIWNSW-BF",
        "colab_type": "code",
        "colab": {}
      },
      "source": [
        ""
      ],
      "execution_count": 0,
      "outputs": []
    }
  ]
}