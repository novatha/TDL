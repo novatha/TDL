{
 "cells": [
  {
   "cell_type": "code",
   "execution_count": 11,
   "metadata": {
    "collapsed": false
   },
   "outputs": [
    {
     "data": {
      "text/plain": [
       "[<matplotlib.lines.Line2D at 0x28805a36668>]"
      ]
     },
     "execution_count": 11,
     "metadata": {},
     "output_type": "execute_result"
    },
    {
     "data": {
      "image/png": "[encoded data removed]",
      "text/plain": [
       "<matplotlib.figure.Figure at 0x288059df160>"
      ]
     },
     "metadata": {},
     "output_type": "display_data"
    }
   ],
   "source": [
    "from scipy import sqrt, linspace\n",
    "% matplotlib inline\n",
    "import matplotlib.pylab as pl\n",
    "d1=8.5\n",
    "f1=60\n",
    "f2=linspace(10**8,10**9,100)\n",
    "d2=sqrt(f1/f2)*d1\n",
    "\n",
    "pl.plot(f2,d2)"
   ]
  },
  {
   "cell_type": "code",
   "execution_count": 7,
   "metadata": {
    "collapsed": false
   },
   "outputs": [
    {
     "data": {
      "text/plain": [
       "array([ 65.84071689,  46.55641739,  38.01315562,  32.92035844,\n",
       "        29.44486373,  26.87936011,  24.88545186,  23.27820869,\n",
       "        21.94690563,  20.82066281,  19.85172308,  19.00657781,\n",
       "        18.26092929,  17.59667176,  17.        ,  16.46017922,\n",
       "        15.96871942,  15.5188058 ,  15.10489638,  14.72243186,\n",
       "        14.36762233,  14.03728801,  13.7287385 ,  13.43968006,\n",
       "        13.16814338,  12.91242693,  12.67105187,  12.44272593,\n",
       "        12.22631419,  12.02081528,  11.82534184,  11.63910435,\n",
       "        11.46139766,  11.29158979,  11.1291124 ,  10.97345281,\n",
       "        10.82414718,  10.68077466,  10.54295244,  10.41033141,\n",
       "        10.28259244,  10.15944318,  10.04061519,   9.92586154,\n",
       "         9.81495458,   9.70768409,   9.60385561,   9.5032889 ,\n",
       "         9.4058167 ,   9.31128348,   9.21954446,   9.13046464,\n",
       "         9.043918  ,   8.9597867 ,   8.87796045,   8.79833588,\n",
       "         8.72081599,   8.64530967,   8.57173123,   8.5       ,\n",
       "         8.43003996,   8.36177941,   8.29515062,   8.23008961,\n",
       "         8.16653584,   8.10443201,   8.0437238 ,   7.98435971,\n",
       "         7.92629087,   7.86947085,   7.81385552,   7.7594029 ,\n",
       "         7.70607304,   7.65382787,   7.60263112,   7.55244819,\n",
       "         7.50324605,   7.45499316,   7.4076594 ,   7.36121593,\n",
       "         7.31563521,   7.27089084,   7.22695757,   7.18381117,\n",
       "         7.14142843,   7.09978709,   7.05886579,   7.018644  ,\n",
       "         6.97910203,   6.94022094,   6.90198251,   6.86436925,\n",
       "         6.8273643 ,   6.79095143,   6.75511502,   6.71984003,\n",
       "         6.68511194,   6.65091677,   6.61724103,   6.58407169])"
      ]
     },
     "execution_count": 7,
     "metadata": {},
     "output_type": "execute_result"
    }
   ],
   "source": [
    "d2\n"
   ]
  },
  {
   "cell_type": "code",
   "execution_count": null,
   "metadata": {
    "collapsed": true
   },
   "outputs": [],
   "source": []
  }
 ],
 "metadata": {
  "kernelspec": {
   "display_name": "Python 3",
   "language": "python",
   "name": "python3"
  },
  "language_info": {
   "codemirror_mode": {
    "name": "ipython",
    "version": 3
   },
   "file_extension": ".py",
   "mimetype": "text/x-python",
   "name": "python",
   "nbconvert_exporter": "python",
   "pygments_lexer": "ipython3",
   "version": "3.5.1"
  }
 },
 "nbformat": 4,
 "nbformat_minor": 0
}
